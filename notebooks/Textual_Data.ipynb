{
 "cells": [
  {
   "cell_type": "code",
   "execution_count": null,
   "metadata": {},
   "outputs": [],
   "source": [
    "import random\n",
    "from datetime import datetime\n",
    "import pandas as pd\n",
    "stock_data = pd.read_csv(\"C:\\\\Users\\\\KIIT\\\\Documents\\\\StockOracle-AI-Powered-Stock-Prediction-and-Forecasting-System\\\\data\\\\stock_data_5_years.csv\")"
   ]
  },
  {
   "cell_type": "code",
   "execution_count": 8,
   "metadata": {},
   "outputs": [],
   "source": [
    "# Function to generate sentiment based on price movement and RSI\n",
    "def generate_sentiment(close, open_price, rsi):\n",
    "    if close > open_price and rsi < 70:\n",
    "        return \"bullish\", random.choice([\"optimistic\", \"excited\", \"confident\"])\n",
    "    elif close < open_price and rsi > 30:\n",
    "        return \"bearish\", random.choice([\"worried\", \"anxious\", \"disappointed\"])\n",
    "    else:\n",
    "        return \"neutral\", random.choice([\"calm\", \"uncertain\", \"indifferent\"])"
   ]
  },
  {
   "cell_type": "code",
   "execution_count": 9,
   "metadata": {},
   "outputs": [],
   "source": [
    "# Generate textual data\n",
    "textual_data = []\n",
    "\n",
    "for index, row in stock_data.iterrows():\n",
    "    date = datetime.strptime(row['Date'].split(' ')[0], '%Y-%m-%d').strftime('%Y-%m-%d')\n",
    "    ticker = row['Ticker']\n",
    "    open_price = row['Open']\n",
    "    close_price = row['Close']\n",
    "    volume = row['Volume']\n",
    "    rsi = row['RSI'] if not pd.isnull(row['RSI']) else 50  # Neutral RSI if missing\n",
    "\n",
    "    sentiment, emotion = generate_sentiment(close_price, open_price, rsi)\n",
    "\n",
    "    # Generate a tweet-like text\n",
    "    if sentiment == \"bullish\":\n",
    "        text = f\"Strong day for {ticker}! Closed higher at {close_price:.2f}, volume surging at {volume}. Feeling {emotion}!\"\n",
    "    elif sentiment == \"bearish\":\n",
    "        text = f\"{ticker} struggled today, dropping to {close_price:.2f}. Investors are {emotion} amid heavy trading volume of {volume}.\"\n",
    "    else:\n",
    "        text = f\"{ticker} had a steady day, closing at {close_price:.2f}. Market seems {emotion} with moderate activity.\"\n",
    "\n",
    "    textual_data.append({\n",
    "        \"id\": index,\n",
    "        \"date\": date,\n",
    "        \"ticker\": ticker,\n",
    "        \"emo_label\": emotion,\n",
    "        \"senti_label\": sentiment,\n",
    "        \"original\": text,\n",
    "        \"processed\": text.lower()\n",
    "    })"
   ]
  },
  {
   "cell_type": "code",
   "execution_count": 10,
   "metadata": {
    "colab": {
     "base_uri": "https://localhost:8080/",
     "height": 590
    },
    "id": "PloD-Ukh85eI",
    "outputId": "4a3e0043-41a8-4255-8563-23e636ba0ae7"
   },
   "outputs": [
    {
     "data": {
      "text/html": [
       "<div>\n",
       "<style scoped>\n",
       "    .dataframe tbody tr th:only-of-type {\n",
       "        vertical-align: middle;\n",
       "    }\n",
       "\n",
       "    .dataframe tbody tr th {\n",
       "        vertical-align: top;\n",
       "    }\n",
       "\n",
       "    .dataframe thead th {\n",
       "        text-align: right;\n",
       "    }\n",
       "</style>\n",
       "<table border=\"1\" class=\"dataframe\">\n",
       "  <thead>\n",
       "    <tr style=\"text-align: right;\">\n",
       "      <th></th>\n",
       "      <th>id</th>\n",
       "      <th>date</th>\n",
       "      <th>ticker</th>\n",
       "      <th>emo_label</th>\n",
       "      <th>senti_label</th>\n",
       "      <th>original</th>\n",
       "      <th>processed</th>\n",
       "    </tr>\n",
       "  </thead>\n",
       "  <tbody>\n",
       "    <tr>\n",
       "      <th>0</th>\n",
       "      <td>0</td>\n",
       "      <td>2020-01-17</td>\n",
       "      <td>AAPL</td>\n",
       "      <td>excited</td>\n",
       "      <td>bullish</td>\n",
       "      <td>Strong day for AAPL! Closed higher at 77.25, v...</td>\n",
       "      <td>strong day for aapl! closed higher at 77.25, v...</td>\n",
       "    </tr>\n",
       "    <tr>\n",
       "      <th>1</th>\n",
       "      <td>1</td>\n",
       "      <td>2020-01-21</td>\n",
       "      <td>AAPL</td>\n",
       "      <td>disappointed</td>\n",
       "      <td>bearish</td>\n",
       "      <td>AAPL struggled today, dropping to 76.73. Inves...</td>\n",
       "      <td>aapl struggled today, dropping to 76.73. inves...</td>\n",
       "    </tr>\n",
       "    <tr>\n",
       "      <th>2</th>\n",
       "      <td>2</td>\n",
       "      <td>2020-01-22</td>\n",
       "      <td>AAPL</td>\n",
       "      <td>disappointed</td>\n",
       "      <td>bearish</td>\n",
       "      <td>AAPL struggled today, dropping to 77.00. Inves...</td>\n",
       "      <td>aapl struggled today, dropping to 77.00. inves...</td>\n",
       "    </tr>\n",
       "    <tr>\n",
       "      <th>3</th>\n",
       "      <td>3</td>\n",
       "      <td>2020-01-23</td>\n",
       "      <td>AAPL</td>\n",
       "      <td>optimistic</td>\n",
       "      <td>bullish</td>\n",
       "      <td>Strong day for AAPL! Closed higher at 77.37, v...</td>\n",
       "      <td>strong day for aapl! closed higher at 77.37, v...</td>\n",
       "    </tr>\n",
       "    <tr>\n",
       "      <th>4</th>\n",
       "      <td>4</td>\n",
       "      <td>2020-01-24</td>\n",
       "      <td>AAPL</td>\n",
       "      <td>disappointed</td>\n",
       "      <td>bearish</td>\n",
       "      <td>AAPL struggled today, dropping to 77.15. Inves...</td>\n",
       "      <td>aapl struggled today, dropping to 77.15. inves...</td>\n",
       "    </tr>\n",
       "  </tbody>\n",
       "</table>\n",
       "</div>"
      ],
      "text/plain": [
       "   id        date ticker     emo_label senti_label  \\\n",
       "0   0  2020-01-17   AAPL       excited     bullish   \n",
       "1   1  2020-01-21   AAPL  disappointed     bearish   \n",
       "2   2  2020-01-22   AAPL  disappointed     bearish   \n",
       "3   3  2020-01-23   AAPL    optimistic     bullish   \n",
       "4   4  2020-01-24   AAPL  disappointed     bearish   \n",
       "\n",
       "                                            original  \\\n",
       "0  Strong day for AAPL! Closed higher at 77.25, v...   \n",
       "1  AAPL struggled today, dropping to 76.73. Inves...   \n",
       "2  AAPL struggled today, dropping to 77.00. Inves...   \n",
       "3  Strong day for AAPL! Closed higher at 77.37, v...   \n",
       "4  AAPL struggled today, dropping to 77.15. Inves...   \n",
       "\n",
       "                                           processed  \n",
       "0  strong day for aapl! closed higher at 77.25, v...  \n",
       "1  aapl struggled today, dropping to 76.73. inves...  \n",
       "2  aapl struggled today, dropping to 77.00. inves...  \n",
       "3  strong day for aapl! closed higher at 77.37, v...  \n",
       "4  aapl struggled today, dropping to 77.15. inves...  "
      ]
     },
     "execution_count": 10,
     "metadata": {},
     "output_type": "execute_result"
    }
   ],
   "source": [
    "# Convert to DataFrame\n",
    "textual_df = pd.DataFrame(textual_data)\n",
    "\n",
    "# Display the first few generated texts\n",
    "textual_df.head()"
   ]
  },
  {
   "cell_type": "code",
   "execution_count": null,
   "metadata": {},
   "outputs": [
    {
     "name": "stdout",
     "output_type": "stream",
     "text": [
      "DataFrame 'textual_df' successfully saved to refined_textual_data.csv\n"
     ]
    }
   ],
   "source": [
    "# Save the dataframe to a CSV file\n",
    "refined_textual_df = \"C:\\\\Users\\\\KIIT\\\\Documents\\\\StockOracle-AI-Powered-Stock-Prediction-and-Forecasting-System\\\\data\\\\refined_textual_data.csv\"\n",
    "textual_df.to_csv(refined_textual_df, index=False, encoding='utf-8')\n",
    "print(f\"DataFrame 'textual_df' successfully saved to {refined_textual_df}\")"
   ]
  }
 ],
 "metadata": {
  "colab": {
   "provenance": []
  },
  "kernelspec": {
   "display_name": "Python 3 (ipykernel)",
   "language": "python",
   "name": "python3"
  },
  "language_info": {
   "codemirror_mode": {
    "name": "ipython",
    "version": 3
   },
   "file_extension": ".py",
   "mimetype": "text/x-python",
   "name": "python",
   "nbconvert_exporter": "python",
   "pygments_lexer": "ipython3",
   "version": "3.12.3"
  }
 },
 "nbformat": 4,
 "nbformat_minor": 4
}
