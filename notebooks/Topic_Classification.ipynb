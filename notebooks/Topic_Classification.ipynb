{
 "cells": [
  {
   "cell_type": "code",
   "execution_count": null,
   "id": "74174e1e-f61b-43dd-a1bd-708aa4c80f3b",
   "metadata": {},
   "outputs": [
    {
     "name": "stdout",
     "output_type": "stream",
     "text": [
      "WARNING:tensorflow:From C:\\Users\\KIIT\\AppData\\Local\\Programs\\Python\\Python312\\Lib\\site-packages\\tf_keras\\src\\losses.py:2976: The name tf.losses.sparse_softmax_cross_entropy is deprecated. Please use tf.compat.v1.losses.sparse_softmax_cross_entropy instead.\n",
      "\n"
     ]
    },
    {
     "name": "stderr",
     "output_type": "stream",
     "text": [
      "2025-05-06 02:16:10,152 - BERTopic - Embedding - Transforming documents to embeddings.\n"
     ]
    },
    {
     "data": {
      "application/vnd.jupyter.widget-view+json": {
       "model_id": "d8de23bc83b4421b82702b80208a8718",
       "version_major": 2,
       "version_minor": 0
      },
      "text/plain": [
       "Batches:   0%|          | 0/393 [00:00<?, ?it/s]"
      ]
     },
     "metadata": {},
     "output_type": "display_data"
    },
    {
     "name": "stderr",
     "output_type": "stream",
     "text": [
      "2025-05-06 02:18:50,126 - BERTopic - Embedding - Completed ✓\n",
      "2025-05-06 02:18:50,128 - BERTopic - Dimensionality - Fitting the dimensionality reduction algorithm\n",
      "2025-05-06 02:20:19,141 - BERTopic - Dimensionality - Completed ✓\n",
      "2025-05-06 02:20:19,144 - BERTopic - Cluster - Start clustering the reduced embeddings\n",
      "2025-05-06 02:20:20,203 - BERTopic - Cluster - Completed ✓\n",
      "2025-05-06 02:20:20,234 - BERTopic - Representation - Extracting topics from clusters using representation models.\n",
      "2025-05-06 02:20:21,030 - BERTopic - Representation - Completed ✓\n"
     ]
    },
    {
     "name": "stdout",
     "output_type": "stream",
     "text": [
      "   Topic  Count                              Name  \\\n",
      "0     -1    235  -1_nvda_confident_closed_feeling   \n",
      "1      0    232  0_googl_optimistic_higher_strong   \n",
      "2      1    224  1_nvda_disappointed_trading_amid   \n",
      "3      2    218   2_nflx_disappointed_to_dropping   \n",
      "4      3    214   3_csco_optimistic_closed_strong   \n",
      "\n",
      "                                      Representation  \\\n",
      "0  [nvda, confident, closed, feeling, higher, sur...   \n",
      "1  [googl, optimistic, higher, strong, surging, f...   \n",
      "2  [nvda, disappointed, trading, amid, are, heavy...   \n",
      "3  [nflx, disappointed, to, dropping, heavy, toda...   \n",
      "4  [csco, optimistic, closed, strong, surging, fe...   \n",
      "\n",
      "                                 Representative_Docs  \n",
      "0  [strong day for nvda! closed higher at 139.90,...  \n",
      "1  [strong day for googl! closed higher at 119.25...  \n",
      "2  [nvda struggled today, dropping to 26.48. inve...  \n",
      "3  [nflx struggled today, dropping to 503.06. inv...  \n",
      "4  [strong day for csco! closed higher at 48.15, ...  \n"
     ]
    },
    {
     "name": "stderr",
     "output_type": "stream",
     "text": [
      "20it [00:09,  2.00it/s]\n"
     ]
    }
   ],
   "source": [
    "import pandas as pd\n",
    "import webbrowser\n",
    "from bertopic import BERTopic\n",
    "\n",
    "# Load the sentiment dataset\n",
    "df = pd.read_csv(\"C:\\\\Users\\\\KIIT\\\\Documents\\\\StockOracle-AI-Powered-Stock-Prediction-and-Forecasting-System\\\\data\\\\refined_textual_data.csv\")  # Ensure the file is in the same directory\n",
    "\n",
    "# Convert 'date' column to datetime format\n",
    "df[\"date\"] = pd.to_datetime(df[\"date\"])\n",
    "\n",
    "# Extract the processed text for topic modeling\n",
    "documents = df[\"processed\"].dropna().tolist()  # Remove NaN values if any\n",
    "\n",
    "# Initialize BERTopic model\n",
    "topic_model = BERTopic(verbose=True)\n",
    "\n",
    "# Fit and transform the data\n",
    "topics, probs = topic_model.fit_transform(documents)\n",
    "\n",
    "# Display topic representation\n",
    "topic_info = topic_model.get_topic_info()\n",
    "print(topic_info.head())\n",
    "\n",
    "# Generate visualizations\n",
    "fig_cluster = topic_model.visualize_topics()\n",
    "fig_barchart = topic_model.visualize_barchart(top_n_topics=10)\n",
    "\n",
    "# Generate Topics Over Time plot\n",
    "topics_over_time = topic_model.topics_over_time(documents, df[\"date\"], nr_bins=20)\n",
    "fig_time = topic_model.visualize_topics_over_time(topics_over_time)"
   ]
  },
  {
   "cell_type": "code",
   "execution_count": null,
   "id": "8185a3d7-b705-4074-ae48-0d6c65c64907",
   "metadata": {},
   "outputs": [
    {
     "name": "stdout",
     "output_type": "stream",
     "text": [
      "Completed! Visualization saved as 'Topic_Visualization.html'\n"
     ]
    },
    {
     "data": {
      "text/plain": [
       "True"
      ]
     },
     "execution_count": 3,
     "metadata": {},
     "output_type": "execute_result"
    }
   ],
   "source": [
    "# Save the visualization\n",
    "with open(\"C:\\\\Users\\\\KIIT\\\\Documents\\\\StockOracle-AI-Powered-Stock-Prediction-and-Forecasting-System\\\\visualizations\\\\Topic_Visualization.html\", \"w\", encoding=\"utf-8\") as f:\n",
    "    f.write(\"<h1>Topic Clusters</h1>\")\n",
    "    f.write(fig_cluster.to_html(full_html=False, include_plotlyjs='cdn'))\n",
    "    \n",
    "    f.write(\"<h1>Topic Bar Chart</h1>\")\n",
    "    f.write(fig_barchart.to_html(full_html=False, include_plotlyjs='cdn'))\n",
    "    \n",
    "    f.write(\"<h1>Topics Over Time</h1>\")\n",
    "    f.write(fig_time.to_html(full_html=False, include_plotlyjs='cdn'))\n",
    "\n",
    "print(\"Completed! Visualization saved as 'Topic_Visualization.html'\")\n",
    "\n",
    "# (Optional) Open the saved file directly\n",
    "webbrowser.open(\"C:\\\\Users\\\\KIIT\\\\Documents\\\\StockOracle-AI-Powered-Stock-Prediction-and-Forecasting-System\\\\visualizations\\\\Topic_Visualization.html\")"
   ]
  }
 ],
 "metadata": {
  "kernelspec": {
   "display_name": "Python 3 (ipykernel)",
   "language": "python",
   "name": "python3"
  },
  "language_info": {
   "codemirror_mode": {
    "name": "ipython",
    "version": 3
   },
   "file_extension": ".py",
   "mimetype": "text/x-python",
   "name": "python",
   "nbconvert_exporter": "python",
   "pygments_lexer": "ipython3",
   "version": "3.12.3"
  }
 },
 "nbformat": 4,
 "nbformat_minor": 5
}
