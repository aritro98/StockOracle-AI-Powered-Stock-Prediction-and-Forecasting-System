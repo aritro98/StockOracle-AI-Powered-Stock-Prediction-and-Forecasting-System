{
 "cells": [
  {
   "cell_type": "code",
   "execution_count": 1,
   "id": "3bc4e2bd-3284-4ee0-ad61-bf90673d542e",
   "metadata": {},
   "outputs": [
    {
     "name": "stdout",
     "output_type": "stream",
     "text": [
      "WARNING:tensorflow:From C:\\Users\\KIIT\\AppData\\Local\\Programs\\Python\\Python312\\Lib\\site-packages\\tf_keras\\src\\losses.py:2976: The name tf.losses.sparse_softmax_cross_entropy is deprecated. Please use tf.compat.v1.losses.sparse_softmax_cross_entropy instead.\n",
      "\n"
     ]
    }
   ],
   "source": [
    "import pandas as pd\n",
    "import webbrowser\n",
    "from bertopic import BERTopic"
   ]
  },
  {
   "cell_type": "code",
   "execution_count": 3,
   "id": "49e6ce56-d7ad-4882-a890-0bd127138775",
   "metadata": {},
   "outputs": [],
   "source": [
    "# Load the sentiment dataset\n",
    "df = pd.read_csv(\"C:\\\\Users\\\\KIIT\\\\Documents\\\\git\\\\StockOracle-AI-Powered-Stock-Prediction-Forecasting-System\\\\data\\\\refined_textual_data.csv\")"
   ]
  },
  {
   "cell_type": "code",
   "execution_count": 4,
   "id": "7841038f-4a5e-4027-8bbd-0b4d2dff8140",
   "metadata": {},
   "outputs": [],
   "source": [
    "# Convert 'date' column to datetime format\n",
    "df[\"date\"] = pd.to_datetime(df[\"date\"])"
   ]
  },
  {
   "cell_type": "code",
   "execution_count": 5,
   "id": "2dbc573c-6339-49c5-baa2-1f12626e4874",
   "metadata": {},
   "outputs": [],
   "source": [
    "# Extract the processed text for topic modeling\n",
    "documents = df[\"processed\"].dropna().tolist()  # Remove NaN values if any"
   ]
  },
  {
   "cell_type": "code",
   "execution_count": 6,
   "id": "476c2fc8-940d-4ab1-a5c9-43af3573a9f4",
   "metadata": {},
   "outputs": [],
   "source": [
    "# Initialize BERTopic model\n",
    "topic_model = BERTopic(verbose=True)"
   ]
  },
  {
   "cell_type": "code",
   "execution_count": 7,
   "id": "1487d03d-73e0-4b44-80f5-d0ba6f1287fb",
   "metadata": {},
   "outputs": [
    {
     "name": "stderr",
     "output_type": "stream",
     "text": [
      "2025-03-23 11:28:47,602 - BERTopic - Embedding - Transforming documents to embeddings.\n"
     ]
    },
    {
     "data": {
      "application/vnd.jupyter.widget-view+json": {
       "model_id": "956b66dbca164cffba5610bd2cfb463c",
       "version_major": 2,
       "version_minor": 0
      },
      "text/plain": [
       "Batches:   0%|          | 0/393 [00:00<?, ?it/s]"
      ]
     },
     "metadata": {},
     "output_type": "display_data"
    },
    {
     "name": "stderr",
     "output_type": "stream",
     "text": [
      "2025-03-23 11:30:16,554 - BERTopic - Embedding - Completed ✓\n",
      "2025-03-23 11:30:16,556 - BERTopic - Dimensionality - Fitting the dimensionality reduction algorithm\n",
      "2025-03-23 11:31:00,303 - BERTopic - Dimensionality - Completed ✓\n",
      "2025-03-23 11:31:00,305 - BERTopic - Cluster - Start clustering the reduced embeddings\n",
      "2025-03-23 11:31:00,879 - BERTopic - Cluster - Completed ✓\n",
      "2025-03-23 11:31:00,897 - BERTopic - Representation - Extracting topics from clusters using representation models.\n",
      "2025-03-23 11:31:01,299 - BERTopic - Representation - Completed ✓\n"
     ]
    }
   ],
   "source": [
    "# Fit and transform the data\n",
    "topics, probs = topic_model.fit_transform(documents)"
   ]
  },
  {
   "cell_type": "code",
   "execution_count": 8,
   "id": "7155b68b-204b-437c-a0a9-70b9047ae671",
   "metadata": {},
   "outputs": [
    {
     "name": "stdout",
     "output_type": "stream",
     "text": [
      "   Topic  Count                                 Name  \\\n",
      "0     -1    185        -1_nvda_optimistic_at_surging   \n",
      "1      0    249       0_googl_excited_strong_surging   \n",
      "2      1    216  1_jpm_disappointed_trading_dropping   \n",
      "3      2    215      2_csco_optimistic_higher_closed   \n",
      "4      3    212     3_msft_disappointed_to_struggled   \n",
      "\n",
      "                                      Representation  \\\n",
      "0  [nvda, optimistic, at, surging, feeling, for, ...   \n",
      "1  [googl, excited, strong, surging, higher, clos...   \n",
      "2  [jpm, disappointed, trading, dropping, today, ...   \n",
      "3  [csco, optimistic, higher, closed, strong, sur...   \n",
      "4  [msft, disappointed, to, struggled, today, dro...   \n",
      "\n",
      "                                 Representative_Docs  \n",
      "0  [nvda had a steady day, closing at 125.18. mar...  \n",
      "1  [strong day for googl! closed higher at 139.64...  \n",
      "2  [jpm struggled today, dropping to 79.36. inves...  \n",
      "3  [strong day for csco! closed higher at 47.08, ...  \n",
      "4  [msft struggled today, dropping to 223.86. inv...  \n"
     ]
    }
   ],
   "source": [
    "# Display topic representation\n",
    "topic_info = topic_model.get_topic_info()\n",
    "print(topic_info.head())"
   ]
  },
  {
   "cell_type": "code",
   "execution_count": 9,
   "id": "c925e918-f1ec-4ebc-8378-cb869e1fff20",
   "metadata": {},
   "outputs": [],
   "source": [
    "# Generate visualizations\n",
    "fig_cluster = topic_model.visualize_topics()\n",
    "fig_barchart = topic_model.visualize_barchart(top_n_topics=10)"
   ]
  },
  {
   "cell_type": "code",
   "execution_count": 10,
   "id": "14b49166-b642-4580-a6d4-46dbb2fd12bd",
   "metadata": {},
   "outputs": [
    {
     "name": "stderr",
     "output_type": "stream",
     "text": [
      "20it [00:04,  4.50it/s]\n"
     ]
    }
   ],
   "source": [
    "# Generate Topics Over Time plot\n",
    "topics_over_time = topic_model.topics_over_time(documents, df[\"date\"], nr_bins=20)\n",
    "fig_time = topic_model.visualize_topics_over_time(topics_over_time)"
   ]
  },
  {
   "cell_type": "code",
   "execution_count": 11,
   "id": "8185a3d7-b705-4074-ae48-0d6c65c64907",
   "metadata": {},
   "outputs": [
    {
     "name": "stdout",
     "output_type": "stream",
     "text": [
      "Completed! Visualization saved as 'Topic_Visualization.html'\n"
     ]
    }
   ],
   "source": [
    "# Save the visualization\n",
    "with open(\"Topic_Visualization.html\", \"w\", encoding=\"utf-8\") as f:\n",
    "    f.write(\"<h1>Topic Clusters</h1>\")\n",
    "    f.write(fig_cluster.to_html(full_html=False, include_plotlyjs='cdn'))\n",
    "    \n",
    "    f.write(\"<h1>Topic Bar Chart</h1>\")\n",
    "    f.write(fig_barchart.to_html(full_html=False, include_plotlyjs='cdn'))\n",
    "    \n",
    "    f.write(\"<h1>Topics Over Time</h1>\")\n",
    "    f.write(fig_time.to_html(full_html=False, include_plotlyjs='cdn'))\n",
    "\n",
    "print(\"Completed! Visualization saved as 'Topic_Visualization.html'\")"
   ]
  },
  {
   "cell_type": "code",
   "execution_count": 13,
   "id": "657a0098-a15c-49f2-8d83-8bd8c4ed1de7",
   "metadata": {},
   "outputs": [
    {
     "data": {
      "text/plain": [
       "True"
      ]
     },
     "execution_count": 13,
     "metadata": {},
     "output_type": "execute_result"
    }
   ],
   "source": [
    "# (Optional) Open the saved file directly\n",
    "webbrowser.open(\"Topic_Visualization.html\")"
   ]
  }
 ],
 "metadata": {
  "kernelspec": {
   "display_name": "Python 3 (ipykernel)",
   "language": "python",
   "name": "python3"
  },
  "language_info": {
   "codemirror_mode": {
    "name": "ipython",
    "version": 3
   },
   "file_extension": ".py",
   "mimetype": "text/x-python",
   "name": "python",
   "nbconvert_exporter": "python",
   "pygments_lexer": "ipython3",
   "version": "3.12.3"
  }
 },
 "nbformat": 4,
 "nbformat_minor": 5
}
